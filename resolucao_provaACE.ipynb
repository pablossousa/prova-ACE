{
  "cells": [
    {
      "cell_type": "markdown",
      "id": "331abcc6",
      "metadata": {
        "tags": []
      },
      "source": [
        "# Resolução da Questão 4 - Prova de Análise de Circuitos Elétricos\n",
        "\n",
        "Pode ser modelado pelas leis de Ohm, Kirchoff da Corrente nos Nós e Kirchoff da Tensão nas Malhas para o seguinte sistema linear:\n",
        "\n",
        "$$\n",
        "   \\begin{cases}\n",
        "        1V_a + 0V_b + 0V_c + 0V_d + 0V_e + 0V_f + 0V_g + 0V_h + 0V_i -9i_1 + 0i_2 + 0i_3 + 0i_4 + 0i_5 = 0\\\\\n",
        "        0V_a + 1V_b + 0V_c + 0V_d + 0V_e + 0V_f + 0V_g + 0V_h + 0V_i -11i_1 + 0i_2 + 0i_3 + 0i_4 + 0i_5 = 0\\\\\n",
        "        0V_a + 0V_b + 1V_c + 0V_d + 0V_e + 0V_f + 0V_g + 0V_h + 0V_i - 10i_1 + 0i_2 + 0i_3 + 0i_4 + 0i_5 = 0\\\\\n",
        "        0V_a + 0V_b + 0V_c + 1V_d + 0V_e + 0V_f + 0V_g + 0V_h + 0V_i + 0i_1 + 0i_2 + 0i_3 + 0i_4 -4i_5 = 0\\\\\n",
        "        0V_a + 0V_b + 0V_c + 0V_d + 1V_e + 0V_f + 0V_g + 0V_h + 0V_i + i_1 + 0i_2 + 0i_3 + 0i_4 -16i_5 = 0\\\\\n",
        "        0V_a + 0V_b + 0V_c + 0V_d + 0V_e + 1V_f + 0V_g + 0V_h + 0V_i + 0i_1 + 0i_2 + 0i_3 + 0i_4 + 0i_5 = 60\\\\\n",
        "        0V_a + 0V_b + 0V_c + 0V_d + 0V_e + 0V_f + 0V_g + 1V_h + 0V_i + 0i_1 - 5i_2 + 0i_3 + 0i_4 + 0i_5 = 0\\\\\n",
        "        0V_a + 0V_b + 0V_c + 0V_d + 0V_e + 0V_f + 0V_g + 0V_h + 1V_i + 0i_1 + 0i_2 -30i_3 + 0i_4 + 0i_5 = 0\\\\\n",
        "        0V_a + 0V_b + 0V_c + 0V_d + 0V_e + 0V_f + 0V_g + 0V_h + 0V_i + 1i_1 + 1i_2 + 0i_3 + 0i_4 + 0i_5 = -4\\\\\n",
        "        0V_a + 0V_b + 0V_c + 0V_d + 0V_e + 0V_f + 0V_g + 0V_h + 0V_i + 0i_1 + 1i_2 -1i_3 -1i_4 + 0i_5 = 0\\\\\n",
        "        0V_a + 0V_b + 0V_c + 0V_d + 0V_e + 0V_f + 0V_g + 0V_h + 0V_i -1i_1 + 0i_2 -1i_3 + 0i_4 +1i_5 = 0\\\\\n",
        "        0V_a + 0V_b + 0V_c + 0V_d + 0V_e + 0V_f  -1V_g + 0V_h + 0V_i + 0i_1 -4i_2 + 0i_3 + 0i_4 + 0i_5 = -160\\\\\n",
        "        0V_a + 0V_b + 0V_c + 0V_d + 0V_e + 0V_f + 1V_g + 0V_h + 0V_i + 0i_1 + 0i_2 -30i_3 + 0i_4 -20i_5 = 0\\\\\n",
        "        0V_a + 0V_b + 0V_c + 0V_d + 0V_e + 0V_f + 0V_g + 0V_h + 0V_i -30i_1 + 5i_2 + 30i_3 + 0i_4 + 0i_5 = 0\\\\\n",
        "    \\end{cases}\n",
        "$$\n",
        "\n",
        "E usaremos a biblioteca numpy para resolvê-lo. Primeiro, devemos importar a biblioteca.\n",
        "\n",
        "## Importando o Numpy"
      ]
    },
    {
      "cell_type": "code",
      "execution_count": 1,
      "id": "4ecaf38a-62bf-4523-9b56-731ccd4948a1",
      "metadata": {
        "trusted": true
      },
      "outputs": [
        {
          "name": "stdout",
          "output_type": "stream",
          "text": [
            "Requirement already satisfied: sympy in c:\\users\\pablo\\appdata\\local\\programs\\python\\python310\\lib\\site-packages (1.12)\n",
            "Requirement already satisfied: mpmath>=0.19 in c:\\users\\pablo\\appdata\\local\\programs\\python\\python310\\lib\\site-packages (from sympy) (1.3.0)\n",
            "Note: you may need to restart the kernel to use updated packages.\n"
          ]
        },
        {
          "name": "stderr",
          "output_type": "stream",
          "text": [
            "WARNING: You are using pip version 22.0.4; however, version 23.2.1 is available.\n",
            "You should consider upgrading via the 'c:\\Users\\pablo\\AppData\\Local\\Programs\\Python\\Python310\\python.exe -m pip install --upgrade pip' command.\n"
          ]
        }
      ],
      "source": [
        "pip install sympy"
      ]
    },
    {
      "cell_type": "code",
      "execution_count": 2,
      "id": "8b4d9478-b384-43d8-9ee1-32dcc4532ef4",
      "metadata": {
        "trusted": true
      },
      "outputs": [],
      "source": [
        "from sympy import *"
      ]
    },
    {
      "cell_type": "code",
      "execution_count": 3,
      "id": "9e6e5ba3",
      "metadata": {
        "tags": [],
        "trusted": true
      },
      "outputs": [],
      "source": [
        "import numpy as np\n",
        "import pandas as pd"
      ]
    },
    {
      "cell_type": "markdown",
      "id": "3882eb8b",
      "metadata": {},
      "source": [
        "## Definindo a matriz A de coeficientes"
      ]
    },
    {
      "cell_type": "code",
      "execution_count": 4,
      "id": "c4e74637",
      "metadata": {
        "trusted": true
      },
      "outputs": [],
      "source": [
        "A = np.array([\n",
        "    [1] + [0 for i in range(8)] + [-9] + [0 for i in range(4)],\n",
        "    [0, 1] + [0 for i in range(7)] + [-11] + [0 for i in range(4)],\n",
        "    [0, 0, 1] + [0 for i in range(6)] + [-10] + [0 for i in range(4)],\n",
        "    [0 for i in range(3)] + [1] + [0 for i in range(9)] + [-4],\n",
        "    [0 for i in range(4)] + [1] + [0 for i in range(8)] + [-16],\n",
        "    [0 for i in range(5)] + [1] + [0 for i in range(8)],\n",
        "    [0 for i in range(7)] + [1, 0, 0, -5] + [0 for i in range(3)],\n",
        "    [0 for i in range(8)] + [1, 0, 0, -30, 0, 0],\n",
        "    [0 for i in range(9)] + [1, 1, 0, 0, 0],\n",
        "    [0 for i in range(10)] + [1, -1, -1, 0],\n",
        "    [0 for i in range(9)] + [-1, 0, -1, 0, 1],\n",
        "    [0 for i in range(6)] + [-1, 0, 0, 0, -5, 0, 0, 0],\n",
        "    [0 for i in range(6)] + [1, 0, 0, 0, 0, -30, 0, -20],\n",
        "    [0 for i in range(9)] + [-30, 5, 30, 0, 0]\n",
        "])"
      ]
    },
    {
      "cell_type": "markdown",
      "id": "7a578c77",
      "metadata": {},
      "source": [
        "## Definindo a matriz B de termos independentes"
      ]
    },
    {
      "cell_type": "code",
      "execution_count": 5,
      "id": "c0a726f1",
      "metadata": {
        "trusted": true
      },
      "outputs": [],
      "source": [
        "B = np.array(\n",
        "    [[0] for i in range(5)] + [[60], [0], [0], [-4], [0], [0], [-160], [0], [0]]\n",
        ")"
      ]
    },
    {
      "cell_type": "markdown",
      "id": "c149dffa",
      "metadata": {},
      "source": [
        "## Definindo o nome das variáveis"
      ]
    },
    {
      "cell_type": "code",
      "execution_count": 6,
      "id": "f1ac841c",
      "metadata": {
        "trusted": true
      },
      "outputs": [],
      "source": [
        "nomes_variaveis = ['V_a', 'V_b', 'V_c', 'V_d', 'V_e', 'V_f', 'V_g', 'V_h', 'V_i', 'i_1', 'i_2', 'i_3', 'i_4', 'i_5']"
      ]
    },
    {
      "cell_type": "markdown",
      "id": "d0a5186b",
      "metadata": {},
      "source": [
        "## Calculando os resultados"
      ]
    },
    {
      "cell_type": "code",
      "execution_count": 7,
      "id": "237e2b71",
      "metadata": {
        "trusted": true
      },
      "outputs": [],
      "source": [
        "resultados = np.linalg.solve(A, B).ravel()"
      ]
    },
    {
      "cell_type": "markdown",
      "id": "6fac202a",
      "metadata": {
        "tags": []
      },
      "source": [
        "### Mostrando os resultados com formatação em latex:"
      ]
    },
    {
      "cell_type": "code",
      "execution_count": 8,
      "id": "ff096c7d",
      "metadata": {
        "trusted": true
      },
      "outputs": [
        {
          "data": {
            "text/markdown": [
              "$$\n",
              "\\begin{align}\n",
              "    &V_a = 18.00V\\\\\n",
              "    &V_b = 22.00V\\\\\n",
              "    &V_c = 20.00V\\\\\n",
              "    &V_d = 20.00V\\\\\n",
              "    &V_e = 80.00V\\\\\n",
              "    &V_f = 60.00V\\\\\n",
              "    &V_g = 190.00V\\\\\n",
              "    &V_h = -30.00V\\\\\n",
              "    &V_i = 90.00V\\\\\n",
              "    &i_1 = 2.00A\\\\\n",
              "    &i_2 = -6.00A\\\\\n",
              "    &i_3 = 3.00A\\\\\n",
              "    &i_4 = -9.00A\\\\\n",
              "    &i_5 = 5.00A\\\\\n",
              "\\end{align}\n",
              "$$\n"
            ],
            "text/plain": [
              "<IPython.core.display.Markdown object>"
            ]
          },
          "metadata": {},
          "output_type": "display_data"
        }
      ],
      "source": [
        "from IPython.display import display, Markdown, Latex\n",
        "\n",
        "unidade = {}\n",
        "# 1. Definindo as unidades das variáveis de tensão como Volt\n",
        "for nome_variavel in nomes_variaveis[0:9]:\n",
        "    unidade[nome_variavel] = 'V'\n",
        "    \n",
        "# 2. Definindo as unidades das variáveis de corrente como Ampére\n",
        "for nome_variavel in nomes_variaveis[9:14]:\n",
        "    unidade[nome_variavel] = 'A'\n",
        "    \n",
        "# criando string para armazenar o resultado em formato latex\n",
        "\n",
        "resultado_tex = '''$$\n",
        "\\\\begin{align}\n",
        "'''\n",
        "\n",
        "# adicionando cada resultado em resultado_tex em formato latex\n",
        "\n",
        "for nome_variavel, resultado in zip(nomes_variaveis, resultados):\n",
        "    resultado_tex += '    &{} = {:.2f}{}\\\\\\\\\\n'.format(nome_variavel, resultado, unidade[nome_variavel])\n",
        "\n",
        "# finalizando a string\n",
        "\n",
        "resultado_tex += '''\\end{align}\n",
        "$$\n",
        "'''\n",
        "display(Markdown(resultado_tex))"
      ]
    },
    {
      "cell_type": "code",
      "execution_count": null,
      "id": "f222e6f5-da7f-4488-ba3c-ad9e98966813",
      "metadata": {},
      "outputs": [],
      "source": []
    }
  ],
  "metadata": {
    "kernelspec": {
      "display_name": "Python 3",
      "language": "python",
      "name": "python3"
    },
    "language_info": {
      "codemirror_mode": {
        "name": "ipython",
        "version": 3
      },
      "file_extension": ".py",
      "mimetype": "text/x-python",
      "name": "python",
      "nbconvert_exporter": "python",
      "pygments_lexer": "ipython3",
      "version": "3.10.5"
    }
  },
  "nbformat": 4,
  "nbformat_minor": 5
}
